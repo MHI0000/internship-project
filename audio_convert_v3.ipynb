{
  "nbformat": 4,
  "nbformat_minor": 0,
  "metadata": {
    "colab": {
      "provenance": []
    },
    "kernelspec": {
      "name": "python3",
      "display_name": "Python 3"
    },
    "language_info": {
      "name": "python"
    }
  },
  "cells": [
    {
      "cell_type": "code",
      "source": [
        "!pip install pydub"
      ],
      "metadata": {
        "id": "Tr--nLMETFV_",
        "outputId": "2ae9b0f4-ee7f-4e77-c5c4-3162ebee72c1",
        "colab": {
          "base_uri": "https://localhost:8080/"
        }
      },
      "execution_count": 1,
      "outputs": [
        {
          "output_type": "stream",
          "name": "stdout",
          "text": [
            "Collecting pydub\n",
            "  Downloading pydub-0.25.1-py2.py3-none-any.whl (32 kB)\n",
            "Installing collected packages: pydub\n",
            "Successfully installed pydub-0.25.1\n"
          ]
        }
      ]
    },
    {
      "cell_type": "code",
      "execution_count": 24,
      "metadata": {
        "id": "CHTKUW0njmA4"
      },
      "outputs": [],
      "source": [
        "from pydub import AudioSegment\n",
        "from pydub.exceptions import PydubException\n",
        "import numpy as np\n",
        "\n",
        "class Audio_convert:\n",
        "  def __init__(self, input_file, output_filename, output_form):\n",
        "    self.input_file = input_file\n",
        "    self.output_filename = output_filename\n",
        "    self.output_form = output_form\n",
        "  def load_form_file(self):\n",
        "    try:\n",
        "      self.audio=AudioSegment.from_file(self.input_file)\n",
        "    except PydubException:\n",
        "      print(\"Reading file failed. Probably something wrong with the input audio file.\")\n",
        "    except Exception as e:\n",
        "      print(\"Reading file failed. Probably something wrong with the input file shortcut.\")\n",
        "  def load_form_array(self):\n",
        "    try:\n",
        "      if(self.input_file[-2]=='x'):\n",
        "        self.input_array=np.loadtxt(input_file)\n",
        "      elif(self.input_file[-2]=='x'):\n",
        "        self.input_array=np.fromfile(input_file)\n",
        "      self.audio = AudioSegment(self.input_array.tobytes(),\n",
        "                    frame_rate=44100, sample_width=self.input_array.dtype.itemsize,\n",
        "                    channels=1 if self.input_array.ndim == 1 else self.input_array.shape[1])\n",
        "    except Exception as e:\n",
        "      print(\"Reading file failed. Probably something wrong with the input audio array or the input array shortcut.\")\n",
        "  def convert(self):\n",
        "    try:\n",
        "      self.audio.export(self.output_filename+'.'+self.output_form, format=self.output_form)\n",
        "      print(\"Conversion succeeded.\")\n",
        "    except PydubException:\n",
        "      print(\"Conversion failed. Probably something wrong with the input audio file or perferred file extension.\")\n",
        "    except Exception as e:\n",
        "      print(\"Conversion failed. Probably something wrong with the input file shortcut.\")\n"
      ]
    },
    {
      "cell_type": "code",
      "source": [
        "method=input(\"Please choose the input form (array or file):\")\n",
        "input_file=input(\"Please input the audio file:\")\n",
        "output_filename=input(\"Please input the output file name(exclude the file extension):\")\n",
        "output_form=input(\"Please input output file format(exclude the dot):\")\n",
        "\n",
        "conversion= Audio_convert(input_file, output_filename, output_form)\n",
        "\n",
        "if(method==\"file\"):\n",
        "  conversion.load_form_file()\n",
        "elif(method==\"array\"):\n",
        "  conversion.load_form_array()\n",
        "\n",
        "conversion.convert()"
      ],
      "metadata": {
        "colab": {
          "base_uri": "https://localhost:8080/"
        },
        "id": "O0wrroLm_57V",
        "outputId": "3e99629e-412e-4825-b784-781e14960ac3"
      },
      "execution_count": 25,
      "outputs": [
        {
          "output_type": "stream",
          "name": "stdout",
          "text": [
            "Please choose the input form (array or file):file\n",
            "Please input the audio file:/content/test.mp3\n",
            "Please input the output file name(exclude the file extension):/content/test\n",
            "Please input output file format(exclude the dot):wav\n",
            "Conversion succeeded.\n"
          ]
        }
      ]
    }
  ]
}