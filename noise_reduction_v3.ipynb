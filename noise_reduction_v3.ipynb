{
  "cells": [
    {
      "cell_type": "code",
      "execution_count": 1,
      "metadata": {
        "colab": {
          "base_uri": "https://localhost:8080/"
        },
        "id": "eKpXeVD8nNz1",
        "outputId": "1f3a6677-ca95-4c72-fa30-2c4f9b748c2b"
      },
      "outputs": [
        {
          "name": "stdout",
          "output_type": "stream",
          "text": [
            "Collecting pydub\n",
            "  Downloading pydub-0.25.1-py2.py3-none-any.whl.metadata (1.4 kB)\n",
            "Downloading pydub-0.25.1-py2.py3-none-any.whl (32 kB)\n",
            "Installing collected packages: pydub\n",
            "Successfully installed pydub-0.25.1\n"
          ]
        }
      ],
      "source": [
        "!pip install pydub"
      ]
    },
    {
      "cell_type": "code",
      "execution_count": 26,
      "metadata": {
        "id": "ps0fb6a2nlCi"
      },
      "outputs": [],
      "source": [
        "from pydub import AudioSegment\n",
        "from pydub.playback import play\n",
        "import numpy as np\n",
        "from scipy.fft import fft, ifft\n",
        "\n",
        "class noise_reduction:\n",
        "\n",
        "  def __init__(self, input_file, noise_file, output_filename, output_form):\n",
        "    self.input_file=input_file\n",
        "    self.noise_file=noise_file\n",
        "    self.output_filename=output_filename\n",
        "    self.output_form=output_form\n",
        "\n",
        "  def load_form_file(self):\n",
        "    try:\n",
        "      self.input_audio=AudioSegment.from_file(self.input_file)\n",
        "      self.noise_audio=AudioSegment.from_file(self.noise_file)\n",
        "    except PydubException:\n",
        "      print(\"Reading file failed. Probably something wrong with the input audio file.\")\n",
        "    except Exception as e:\n",
        "      print(\"Reading file failed. Probably something wrong with the input file shortcut.\")\n",
        "\n",
        "  def reduction(self):\n",
        "    try:\n",
        "      self.input_array=np.array(self.input_audio.get_array_of_samples())\n",
        "      self.noise_array=np.array(self.noise_audio.get_array_of_samples())\n",
        "\n",
        "      for i in range(len(self.noise_array),len(self.input_array),1):\n",
        "        self.noise_array.append(np.mean(np.abs(self.noise_array)))\n",
        "      self.noise_array=self.noise_array[:len(self.input_array)]\n",
        "\n",
        "      self.input_array=fft(self.input_array)\n",
        "      self.noise_array=fft(self.noise_array)\n",
        "\n",
        "      for i in range(0,len(self.input_array),1):\n",
        "        if(np.abs(self.noise_array[i])>0.2*np.abs(self.input_array[i])):\n",
        "          self.input_array[i]=0\n",
        "\n",
        "      self.output_array=ifft(self.input_array)\n",
        "\n",
        "      self.output=AudioSegment(self.output_array.astype(np.int16).tobytes(),\n",
        "                frame_rate=self.input_audio.frame_rate,\n",
        "                sample_width=self.input_audio.sample_width,\n",
        "                channels=self.input_audio.channels)\n",
        "\n",
        "      self.output.export(self.output_filename+'.'+self.output_form, format=self.output_form)\n",
        "      print(\"Noise reduction successfully processed.\")\n",
        "    except Exception as e:\n",
        "      print(\"Noise reduction failed.\")\n",
        "\n"
      ]
    },
    {
      "cell_type": "code",
      "execution_count": 27,
      "metadata": {
        "colab": {
          "base_uri": "https://localhost:8080/"
        },
        "id": "P5gwDqcK-Amt",
        "outputId": "29b3e8cf-86ac-4a82-f380-ab27c7a5a521"
      },
      "outputs": [
        {
          "name": "stdout",
          "output_type": "stream",
          "text": [
            "Please input the audio file:test5.mp3\n",
            "Please input the noise file:noise4.mp3\n",
            "Please input the output file name(exclude the file extension):output\n",
            "Please input output file format(exclude the dot):mp3\n"
          ]
        },
        {
          "name": "stderr",
          "output_type": "stream",
          "text": [
            "<ipython-input-26-a3fe75d0fff3>:41: ComplexWarning: Casting complex values to real discards the imaginary part\n",
            "  self.output=AudioSegment(self.output_array.astype(np.int16).tobytes(),\n"
          ]
        },
        {
          "name": "stdout",
          "output_type": "stream",
          "text": [
            "Noise reduction successfully processed.\n"
          ]
        }
      ],
      "source": [
        "input_file=input(\"Please input the audio file:\")\n",
        "noise_file=input(\"Please input the noise file:\")\n",
        "output_filename=input(\"Please input the output file name(exclude the file extension):\")\n",
        "output_form=input(\"Please input output file format(exclude the dot):\")\n",
        "\n",
        "reduction=noise_reduction(input_file, noise_file, output_filename, output_form)\n",
        "\n",
        "reduction.load_form_file()\n",
        "reduction.reduction()"
      ]
    },
    {
      "cell_type": "code",
      "execution_count": null,
      "metadata": {
        "colab": {
          "base_uri": "https://localhost:8080/"
        },
        "id": "nFj4g7TpDNdL",
        "outputId": "9acc6271-54d5-4d24-fee4-f32f71254124"
      },
      "outputs": [
        {
          "name": "stderr",
          "output_type": "stream",
          "text": [
            "<ipython-input-7-bad61611dcfe>:31: ComplexWarning: Casting complex values to real discards the imaginary part\n",
            "  output=AudioSegment(output_array.astype(np.int16).tobytes(),\n",
            "<ipython-input-7-bad61611dcfe>:31: ComplexWarning: Casting complex values to real discards the imaginary part\n",
            "  output=AudioSegment(output_array.astype(np.int16).tobytes(),\n",
            "<ipython-input-7-bad61611dcfe>:31: ComplexWarning: Casting complex values to real discards the imaginary part\n",
            "  output=AudioSegment(output_array.astype(np.int16).tobytes(),\n",
            "<ipython-input-7-bad61611dcfe>:31: ComplexWarning: Casting complex values to real discards the imaginary part\n",
            "  output=AudioSegment(output_array.astype(np.int16).tobytes(),\n",
            "<ipython-input-7-bad61611dcfe>:31: ComplexWarning: Casting complex values to real discards the imaginary part\n",
            "  output=AudioSegment(output_array.astype(np.int16).tobytes(),\n"
          ]
        }
      ],
      "source": [
        "from pydub import AudioSegment\n",
        "from pydub.playback import play\n",
        "import numpy as np\n",
        "from scipy.fft import fft, ifft\n",
        "\n",
        "#input_filename=input(\"Please input the audio file:\")\n",
        "#input_file=AudioSegment.from_file(input_filename)\n",
        "input_file=AudioSegment.from_file(\"test5.mp3\")\n",
        "\n",
        "#noise_filename=input(\"Please input the noise file:\")\n",
        "#noise_file=AudioSegment.from_file(noise_filename)\n",
        "noise_file=AudioSegment.from_file(\"noise4.mp3\")\n",
        "\n",
        "input_array=np.array(input_file.get_array_of_samples())\n",
        "noise_array=np.array(noise_file.get_array_of_samples())\n",
        "\n",
        "for i in range(len(noise_array),len(input_array),1):\n",
        "  noise_array.append(np.mean(np.abs(noise_array)))\n",
        "noise_array=noise_array[:len(input_array)]\n",
        "input_array=fft(input_array)\n",
        "noise_array=fft(noise_array)\n",
        "\n",
        "for j in range(24, 14, -2):\n",
        "  for i in range(0,len(input_array),1):\n",
        "   if(np.abs(noise_array[i])>(j/100)*np.abs(input_array[i])):\n",
        "      input_array[i]=0\n",
        "\n",
        "  output_array=ifft(input_array)\n",
        "\n",
        "\n",
        "  output=AudioSegment(output_array.astype(np.int16).tobytes(),\n",
        "            frame_rate=input_file.frame_rate,\n",
        "            sample_width=input_file.sample_width,\n",
        "            channels=input_file.channels)\n",
        "  output.export(\"mono_c\"+str(j//2-7)+\".mp3\", format=\"mp3\")\n",
        "#play(input_file)\n",
        "#play(output)"
      ]
    }
  ],
  "metadata": {
    "colab": {
      "provenance": []
    },
    "kernelspec": {
      "display_name": "Python 3",
      "name": "python3"
    },
    "language_info": {
      "name": "python"
    }
  },
  "nbformat": 4,
  "nbformat_minor": 0
}
