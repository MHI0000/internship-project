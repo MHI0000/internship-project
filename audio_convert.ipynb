{
  "nbformat": 4,
  "nbformat_minor": 0,
  "metadata": {
    "colab": {
      "provenance": []
    },
    "kernelspec": {
      "name": "python3",
      "display_name": "Python 3"
    },
    "language_info": {
      "name": "python"
    }
  },
  "cells": [
    {
      "cell_type": "code",
      "source": [
        "!pip install pydub"
      ],
      "metadata": {
        "id": "Tr--nLMETFV_",
        "outputId": "dcdfdf96-1ada-4270-b9dc-ad6d28ee1302",
        "colab": {
          "base_uri": "https://localhost:8080/"
        }
      },
      "execution_count": null,
      "outputs": [
        {
          "output_type": "stream",
          "name": "stdout",
          "text": [
            "Requirement already satisfied: pydub in /usr/local/lib/python3.10/dist-packages (0.25.1)\n"
          ]
        }
      ]
    },
    {
      "cell_type": "code",
      "execution_count": null,
      "metadata": {
        "colab": {
          "base_uri": "https://localhost:8080/"
        },
        "id": "CHTKUW0njmA4",
        "outputId": "13829f21-e554-40a8-f55b-f935baa1e7ba"
      },
      "outputs": [
        {
          "name": "stdout",
          "output_type": "stream",
          "text": [
            "Please input file name:test.mp3\n",
            "Please input perfer output file:ogg\n"
          ]
        },
        {
          "output_type": "execute_result",
          "data": {
            "text/plain": [
              "<_io.BufferedRandom name='test.ogg'>"
            ]
          },
          "metadata": {},
          "execution_count": 12
        }
      ],
      "source": [
        "from pydub import AudioSegment\n",
        "file_name=input(\"Please input file name:\")\n",
        "sound=AudioSegment.from_file(\"/content/\"+file_name)\n",
        "file_name,sub_title=file_name.split('.')\n",
        "output_form=input(\"Please input perfer output file:\")\n",
        "sound.export(file_name+\".\"+output_form, format=output_form)"
      ]
    }
  ]
}