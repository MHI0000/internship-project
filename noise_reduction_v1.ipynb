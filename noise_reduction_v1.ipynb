{
  "nbformat": 4,
  "nbformat_minor": 0,
  "metadata": {
    "colab": {
      "provenance": []
    },
    "kernelspec": {
      "name": "python3",
      "display_name": "Python 3"
    },
    "language_info": {
      "name": "python"
    }
  },
  "cells": [
    {
      "cell_type": "code",
      "execution_count": 2,
      "metadata": {
        "colab": {
          "base_uri": "https://localhost:8080/"
        },
        "id": "eKpXeVD8nNz1",
        "outputId": "ca586b0c-e22e-45df-c73e-e0466cd94a2b"
      },
      "outputs": [
        {
          "output_type": "stream",
          "name": "stdout",
          "text": [
            "Collecting pydub\n",
            "  Downloading pydub-0.25.1-py2.py3-none-any.whl.metadata (1.4 kB)\n",
            "Downloading pydub-0.25.1-py2.py3-none-any.whl (32 kB)\n",
            "Installing collected packages: pydub\n",
            "Successfully installed pydub-0.25.1\n"
          ]
        }
      ],
      "source": [
        "!pip install pydub"
      ]
    },
    {
      "cell_type": "code",
      "source": [
        "from pydub import AudioSegment\n",
        "import numpy as np\n",
        "from scipy.fft import fft, ifft\n",
        "\n",
        "input_filename=input(\"Please input the audio file:\")\n",
        "input_file=AudioSegment.from_file(input_filename)\n",
        "#input_file=AudioSegment.from_file(\"test1.mp3\")\n",
        "\n",
        "noise_filename=input(\"Please input the noise file:\")\n",
        "noise_file=AudioSegment.from_file(noise_filename)\n",
        "#noise_file=AudioSegment.from_file(\"noise.mp3\")\n",
        "\n",
        "input_array=np.array(input_file.get_array_of_samples())\n",
        "noise_array=np.array(noise_file.get_array_of_samples())\n",
        "\n",
        "for i in range(len(noise_array),len(input_array),1):\n",
        "  noise_array.append(np.mean(np.abs(noise_array)))\n",
        "noise_array=noise_array[:len(input_array)]\n",
        "input_array=fft(input_array)\n",
        "noise_array=fft(noise_array)\n",
        "\n",
        "for i in range(0,len(input_array),1):\n",
        "  if(np.abs(noise_array[i])>0.1*np.abs(input_array[i])):\n",
        "    input_array[i]=0\n",
        "\n",
        "output_array=ifft(input_array)\n",
        "\n",
        "\n",
        "output=AudioSegment(output_array.astype(np.int16).tobytes(),\n",
        "          frame_rate=input_file.frame_rate,\n",
        "          sample_width=input_file.sample_width,\n",
        "          channels=input_file.channels)\n",
        "output.export(\"/content/output.mp3\", format=\"mp3\")"
      ],
      "metadata": {
        "colab": {
          "base_uri": "https://localhost:8080/"
        },
        "id": "ps0fb6a2nlCi",
        "outputId": "36df9e5c-7107-4a26-f41c-1f681203cd14"
      },
      "execution_count": 29,
      "outputs": [
        {
          "name": "stdout",
          "output_type": "stream",
          "text": [
            "Please input the audio file:test1.mp3\n",
            "Please input the noise file:noise.mp3\n"
          ]
        },
        {
          "output_type": "stream",
          "name": "stderr",
          "text": [
            "<ipython-input-29-a091e90fcdee>:29: ComplexWarning: Casting complex values to real discards the imaginary part\n",
            "  output=AudioSegment(output_array.astype(np.int16).tobytes(),\n"
          ]
        },
        {
          "output_type": "execute_result",
          "data": {
            "text/plain": [
              "<_io.BufferedRandom name='/content/output.mp3'>"
            ]
          },
          "metadata": {},
          "execution_count": 29
        }
      ]
    },
    {
      "cell_type": "code",
      "source": [
        "# ChatGPT version\n",
        "\n",
        "import numpy as np\n",
        "import scipy.signal\n",
        "import pydub\n",
        "import soundfile as sf\n",
        "\n",
        "def audio_to_numpy(audio):\n",
        "    \"\"\"将 pydub.AudioSegment 转换为 numpy 数组。\"\"\"\n",
        "    samples = np.array(audio.get_array_of_samples())\n",
        "    # 如果音频是立体声，选择其中一个通道\n",
        "    if audio.channels == 2:\n",
        "        samples = samples[::2]\n",
        "    return samples.astype(np.float32)\n",
        "\n",
        "def numpy_to_audio(samples, sample_rate):\n",
        "    \"\"\"将 numpy 数组转换为 pydub.AudioSegment。\"\"\"\n",
        "    samples = samples.astype(np.int16)  # 转换为 16 位 PCM 格式\n",
        "    return pydub.AudioSegment(\n",
        "        samples.tobytes(),\n",
        "        frame_rate=sample_rate,\n",
        "        sample_width=2,\n",
        "        channels=1\n",
        "    )\n",
        "\n",
        "def calculate_segment_max_amplitudes(signal, segment_length, hop_size):\n",
        "    \"\"\"计算每个小段的最大音量幅度。\"\"\"\n",
        "    num_segments = (len(signal) - segment_length) // hop_size + 1\n",
        "    max_amplitudes = np.zeros(num_segments)\n",
        "    for i in range(num_segments):\n",
        "        start = i * hop_size\n",
        "        end = start + segment_length\n",
        "        segment = signal[start:end]\n",
        "        max_amplitudes[i] = np.max(np.abs(segment))\n",
        "    return max_amplitudes\n",
        "\n",
        "def denoise_audio(input_file, output_file, window_size=1024, hop_size=512, noise_fraction=0.005):\n",
        "    # 读取音频文件\n",
        "    audio = pydub.AudioSegment.from_file(input_file)\n",
        "    sample_rate = audio.frame_rate\n",
        "\n",
        "    # 将音频转换为 numpy 数组\n",
        "    audio_signal = audio_to_numpy(audio)\n",
        "\n",
        "    # 计算每个小段的最大音量\n",
        "    max_amplitudes = calculate_segment_max_amplitudes(audio_signal, window_size, hop_size)\n",
        "    print(f\"每个小段的最大音量幅度: {max_amplitudes}\")\n",
        "\n",
        "    # 选择窗函数\n",
        "    window = np.hanning(window_size)\n",
        "\n",
        "    # 计算 STFT\n",
        "    f, t, Zxx = scipy.signal.stft(audio_signal, fs=sample_rate, window=window, nperseg=window_size, noverlap=hop_size)\n",
        "\n",
        "\n",
        "    # 根据每个小段的最大音量设置阈值\n",
        "    Zxx_filtered = np.zeros_like(Zxx)\n",
        "    for i in range(len(max_amplitudes)):\n",
        "        segment_threshold = noise_fraction * max_amplitudes[i]\n",
        "        Zxx_filtered[:, i] = np.where(np.abs(Zxx[:, i]) < segment_threshold, 0, Zxx[:, i])\n",
        "\n",
        "    # 使用 inverse STFT 将频域信号转换回时域信号\n",
        "    _, filtered_audio_signal = scipy.signal.istft(Zxx_filtered, fs=sample_rate, window=window, nperseg=window_size, noverlap=hop_size)\n",
        "\n",
        "    # 将 numpy 数组转换回 pydub.AudioSegment\n",
        "    filtered_audio = numpy_to_audio(filtered_audio_signal, sample_rate)\n",
        "\n",
        "    # 保存处理后的音频文件\n",
        "    filtered_audio.export(output_file, format=\"mp3\")\n",
        "\n",
        "# 调用函数进行音频降噪\n",
        "denoise_audio('test2.mp3', 'file1.mp3')\n"
      ],
      "metadata": {
        "colab": {
          "base_uri": "https://localhost:8080/"
        },
        "id": "KZa8JhIJK5zr",
        "outputId": "f95874ab-cbab-4558-fd76-c0312b9ee49e"
      },
      "execution_count": 13,
      "outputs": [
        {
          "output_type": "stream",
          "name": "stdout",
          "text": [
            "每个小段的最大音量幅度: [   0.    0.    0. ... 1921. 1921. 1879.]\n"
          ]
        }
      ]
    }
  ]
}